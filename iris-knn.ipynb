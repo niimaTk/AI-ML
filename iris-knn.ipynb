{
  "cells": [
    {
      "cell_type": "markdown",
      "metadata": {
        "id": "EE8pethNzXaC"
      },
      "source": [
        "### A First Application: Classifying Iris Species\n",
        "![sepal_petal](https://github.com/Alireza-Akhavan/ML-notebooks/blob/main/images/iris_petal_sepal.png?raw=1)\n"
      ]
    },
    {
      "cell_type": "code",
      "source": [
        "pip install mglearn"
      ],
      "metadata": {
        "id": "mH7LHXaI4qzV"
      },
      "execution_count": null,
      "outputs": []
    },
    {
      "cell_type": "code",
      "execution_count": null,
      "metadata": {
        "id": "NocfcAiLzXaK"
      },
      "outputs": [],
      "source": [
        "import pandas as pd\n",
        "import numpy as np\n",
        "import mglearn # dont forget install mglearn (pip install mglearn)"
      ]
    },
    {
      "cell_type": "markdown",
      "metadata": {
        "id": "N3eefm3CzXaM"
      },
      "source": [
        "#### Meet the Data"
      ]
    },
    {
      "cell_type": "code",
      "execution_count": null,
      "metadata": {
        "scrolled": true,
        "id": "zyJ3R7WPzXaN"
      },
      "outputs": [],
      "source": [
        "from sklearn.datasets import load_iris\n",
        "iris_dataset = load_iris()"
      ]
    },
    {
      "cell_type": "code",
      "execution_count": null,
      "metadata": {
        "id": "B9VwR7TRzXaO"
      },
      "outputs": [],
      "source": [
        "print(\"Keys of iris_dataset:\\n\", iris_dataset.keys())"
      ]
    },
    {
      "cell_type": "code",
      "execution_count": null,
      "metadata": {
        "scrolled": true,
        "id": "afdAgC2hzXaS"
      },
      "outputs": [],
      "source": [
        "print(iris_dataset['DESCR'][:193] + \"\\n...\")"
      ]
    },
    {
      "cell_type": "code",
      "execution_count": null,
      "metadata": {
        "id": "PtHlUHGzzXaT"
      },
      "outputs": [],
      "source": [
        "print(\"Target names:\", iris_dataset['target_names'])"
      ]
    },
    {
      "cell_type": "code",
      "execution_count": null,
      "metadata": {
        "id": "BC2Ec6NYzXaU"
      },
      "outputs": [],
      "source": [
        "print(\"Feature names:\\n\", iris_dataset['feature_names'])"
      ]
    },
    {
      "cell_type": "code",
      "execution_count": null,
      "metadata": {
        "id": "idzLbTHWzXaV"
      },
      "outputs": [],
      "source": [
        "print(\"Type of data:\", type(iris_dataset['data']))"
      ]
    },
    {
      "cell_type": "code",
      "execution_count": null,
      "metadata": {
        "id": "v_vaV4HCzXaW"
      },
      "outputs": [],
      "source": [
        "print(\"Shape of data:\", iris_dataset['data'].shape)"
      ]
    },
    {
      "cell_type": "code",
      "execution_count": null,
      "metadata": {
        "id": "Jjfw3Sd_zXaX"
      },
      "outputs": [],
      "source": [
        "print(\"First five rows of data:\\n\", iris_dataset['data'][:5])"
      ]
    },
    {
      "cell_type": "code",
      "execution_count": null,
      "metadata": {
        "id": "2P7TyyQ6zXaY"
      },
      "outputs": [],
      "source": [
        "print(\"Type of target:\", type(iris_dataset['target']))"
      ]
    },
    {
      "cell_type": "code",
      "execution_count": null,
      "metadata": {
        "id": "15895CRGzXaZ"
      },
      "outputs": [],
      "source": [
        "print(\"Shape of target:\", iris_dataset['target'].shape)"
      ]
    },
    {
      "cell_type": "code",
      "execution_count": null,
      "metadata": {
        "id": "AHFuCoR5zXaZ"
      },
      "outputs": [],
      "source": [
        "print(\"Target:\\n\", iris_dataset['target'])"
      ]
    },
    {
      "cell_type": "markdown",
      "metadata": {
        "id": "S_yz2L-wzXaa"
      },
      "source": [
        "#### Measuring Success: Training and Testing Data"
      ]
    },
    {
      "cell_type": "code",
      "execution_count": null,
      "metadata": {
        "id": "cBVxz81ZzXab"
      },
      "outputs": [],
      "source": [
        "from sklearn.model_selection import train_test_split\n",
        "X_train, X_test, y_train, y_test = train_test_split(\n",
        "    iris_dataset['data'], iris_dataset['target'], random_state=0)"
      ]
    },
    {
      "cell_type": "code",
      "execution_count": null,
      "metadata": {
        "id": "OdXjcTw7zXab"
      },
      "outputs": [],
      "source": [
        "print(\"X_train shape:\", X_train.shape)\n",
        "print(\"y_train shape:\", y_train.shape)"
      ]
    },
    {
      "cell_type": "code",
      "execution_count": null,
      "metadata": {
        "id": "mp52X03NzXac"
      },
      "outputs": [],
      "source": [
        "print(\"X_test shape:\", X_test.shape)\n",
        "print(\"y_test shape:\", y_test.shape)"
      ]
    },
    {
      "cell_type": "markdown",
      "metadata": {
        "id": "V_A26XdkzXac"
      },
      "source": [
        "#### First Things First: Look at Your Data"
      ]
    },
    {
      "cell_type": "code",
      "execution_count": null,
      "metadata": {
        "id": "1_7W9b6TzXac"
      },
      "outputs": [],
      "source": [
        "# create dataframe from data in X_train\n",
        "# label the columns using the strings in iris_dataset.feature_names\n",
        "iris_dataframe = pd.DataFrame(X_train, columns=iris_dataset.feature_names)\n",
        "# create a scatter matrix from the dataframe, color by y_train\n",
        "pd.plotting.scatter_matrix(iris_dataframe, c=y_train, figsize=(15, 15),\n",
        "                           marker='o', hist_kwds={'bins': 20}, s=60,\n",
        "                           alpha=.8, cmap=mglearn.cm3)"
      ]
    },
    {
      "cell_type": "markdown",
      "metadata": {
        "id": "6sq89_62zXad"
      },
      "source": [
        "#### Building Your First Model: k-Nearest Neighbors"
      ]
    },
    {
      "cell_type": "code",
      "execution_count": null,
      "metadata": {
        "id": "iL7T78QOzXad"
      },
      "outputs": [],
      "source": [
        "from sklearn.neighbors import KNeighborsClassifier\n",
        "knn = KNeighborsClassifier(n_neighbors=1)"
      ]
    },
    {
      "cell_type": "code",
      "source": [
        "X_train.shape"
      ],
      "metadata": {
        "id": "cxwSWaLZ81Dk"
      },
      "execution_count": null,
      "outputs": []
    },
    {
      "cell_type": "code",
      "execution_count": null,
      "metadata": {
        "id": "nS0Xlc3lzXae"
      },
      "outputs": [],
      "source": [
        "knn.fit(X_train, y_train)"
      ]
    },
    {
      "cell_type": "markdown",
      "metadata": {
        "id": "7gax1N6xzXae"
      },
      "source": [
        "#### Making Predictions"
      ]
    },
    {
      "cell_type": "code",
      "execution_count": null,
      "metadata": {
        "id": "p1NvY1R3zXaf"
      },
      "outputs": [],
      "source": [
        "X_new = np.array([[5, 2.9, 1, 0.2]])\n",
        "print(\"X_new.shape:\", X_new.shape)"
      ]
    },
    {
      "cell_type": "code",
      "execution_count": null,
      "metadata": {
        "id": "hElJZg7YzXaf"
      },
      "outputs": [],
      "source": [
        "prediction = knn.predict(X_new)\n",
        "print(\"Prediction:\", prediction)\n",
        "print(\"Predicted target name:\",\n",
        "       iris_dataset['target_names'][prediction])"
      ]
    },
    {
      "cell_type": "markdown",
      "metadata": {
        "id": "zRvOb5gYzXaf"
      },
      "source": [
        "#### Evaluating the Model"
      ]
    },
    {
      "cell_type": "code",
      "execution_count": null,
      "metadata": {
        "id": "0z8NHqbkzXag"
      },
      "outputs": [],
      "source": [
        "y_pred = knn.predict(X_test)\n",
        "print(\"Test set predictions:\\n\", y_pred)"
      ]
    },
    {
      "cell_type": "code",
      "execution_count": null,
      "metadata": {
        "id": "ZHbspdQWzXah"
      },
      "outputs": [],
      "source": [
        "print(\"Test set score: {:.2f}\".format(np.mean(y_pred == y_test)))"
      ]
    },
    {
      "cell_type": "code",
      "execution_count": null,
      "metadata": {
        "id": "AVvassKrzXai"
      },
      "outputs": [],
      "source": [
        "print(\"Test set score: {:.2f}\".format(knn.score(X_test, y_test)))"
      ]
    },
    {
      "cell_type": "markdown",
      "metadata": {
        "id": "QoQoEon5zXaj"
      },
      "source": [
        "### Summary and Outlook"
      ]
    },
    {
      "cell_type": "code",
      "execution_count": null,
      "metadata": {
        "id": "kPoEDJ_izXaj"
      },
      "outputs": [],
      "source": [
        "X_train, X_test, y_train, y_test = train_test_split(\n",
        "    iris_dataset['data'], iris_dataset['target'], random_state=0)\n",
        "\n",
        "knn = KNeighborsClassifier(n_neighbors=55)\n",
        "knn.fit(X_train, y_train)\n",
        "\n",
        "print(\"Test set score: {:.2f}\".format(knn.score(X_test, y_test)))"
      ]
    }
  ],
  "metadata": {
    "anaconda-cloud": {},
    "kernelspec": {
      "display_name": "tf2.5",
      "language": "python",
      "name": "tensorflow_25"
    },
    "language_info": {
      "codemirror_mode": {
        "name": "ipython",
        "version": 3
      },
      "file_extension": ".py",
      "mimetype": "text/x-python",
      "name": "python",
      "nbconvert_exporter": "python",
      "pygments_lexer": "ipython3",
      "version": "3.8.10"
    },
    "colab": {
      "provenance": []
    }
  },
  "nbformat": 4,
  "nbformat_minor": 0
}